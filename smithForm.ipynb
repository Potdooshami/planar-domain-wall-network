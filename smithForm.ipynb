{
  "nbformat": 4,
  "nbformat_minor": 0,
  "metadata": {
    "colab": {
      "provenance": [],
      "authorship_tag": "ABX9TyPvXAj8Oi4+lb7b8xMCVbHi",
      "include_colab_link": true
    },
    "kernelspec": {
      "name": "python3",
      "display_name": "Python 3"
    },
    "language_info": {
      "name": "python"
    }
  },
  "cells": [
    {
      "cell_type": "markdown",
      "metadata": {
        "id": "view-in-github",
        "colab_type": "text"
      },
      "source": [
        "<a href=\"https://colab.research.google.com/github/Potdooshami/planar-domain-wall-network/blob/main/smithForm.ipynb\" target=\"_parent\"><img src=\"https://colab.research.google.com/assets/colab-badge.svg\" alt=\"Open In Colab\"/></a>"
      ]
    },
    {
      "cell_type": "code",
      "execution_count": null,
      "metadata": {
        "colab": {
          "base_uri": "https://localhost:8080/"
        },
        "id": "jYZ9-cyEO8BS",
        "outputId": "96bde968-b5c3-441e-b4db-0642b0a1d8fa"
      },
      "outputs": [
        {
          "output_type": "stream",
          "name": "stdout",
          "text": [
            "Requirement already satisfied: hsnf in /usr/local/lib/python3.10/dist-packages (0.3.16)\n",
            "Requirement already satisfied: setuptools in /usr/local/lib/python3.10/dist-packages (from hsnf) (71.0.4)\n",
            "Requirement already satisfied: setuptools-scm in /usr/local/lib/python3.10/dist-packages (from hsnf) (8.1.0)\n",
            "Requirement already satisfied: wheel in /usr/local/lib/python3.10/dist-packages (from hsnf) (0.44.0)\n",
            "Requirement already satisfied: numpy>=1.20.1 in /usr/local/lib/python3.10/dist-packages (from hsnf) (1.26.4)\n",
            "Requirement already satisfied: scipy in /usr/local/lib/python3.10/dist-packages (from hsnf) (1.13.1)\n",
            "Requirement already satisfied: typing-extensions in /usr/local/lib/python3.10/dist-packages (from hsnf) (4.12.2)\n",
            "Requirement already satisfied: packaging>=20 in /usr/local/lib/python3.10/dist-packages (from setuptools-scm->hsnf) (24.1)\n",
            "Requirement already satisfied: tomli>=1 in /usr/local/lib/python3.10/dist-packages (from setuptools-scm->hsnf) (2.0.1)\n"
          ]
        }
      ],
      "source": [
        "pip install hsnf"
      ]
    },
    {
      "cell_type": "code",
      "source": [
        "import numpy as np\n",
        "from hsnf import column_style_hermite_normal_form, row_style_hermite_normal_form, smith_normal_form\n",
        "\n",
        "# Integer matrix to be decomposed\n",
        "M = np.array(\n",
        "    [\n",
        "        [4,0,0,   0,0,0,  0],\n",
        "        [0,4,0,   0,0,0,  0],\n",
        "        [0,0,4,   0,0,0,  0],\n",
        "        [0,0,0,   4,0,0,  0],\n",
        "        [0,0,0,   0,4,0,  0],\n",
        "        [0,0,0,   0,0,4,  0],\n",
        "        [0,0,0,   0,0,0,  4],\n",
        "\n",
        "        [1,1,1,   0,0,0,  1],\n",
        "\n",
        "        [1,0,0,   0,1,-1,  -1],\n",
        "        [0,1,0,   -1,0,1,  -1],\n",
        "        [0,0,1,   1,-1,0,  -1],\n",
        "\n",
        "        [0,1,-1,   0,-1,-1,  0],\n",
        "        [-1,0,1,   -1,0,-1,  0],\n",
        "        [1,-1,0,   -1,-1,0,  0],\n",
        "    ]\n",
        ")\n",
        "#M = np.array([[1,-1,-1,1],[0,1,-1,0]])\n",
        "M = np.array([[2,3,6]]`)\n",
        "# Smith normal form\n",
        "D, L, R = smith_normal_form(M)"
      ],
      "metadata": {
        "id": "9EH1QdfrP7Q0"
      },
      "execution_count": null,
      "outputs": []
    },
    {
      "cell_type": "code",
      "source": [
        "print(D)\n",
        "print(L)\n",
        "print(R)"
      ],
      "metadata": {
        "colab": {
          "base_uri": "https://localhost:8080/"
        },
        "id": "QwEw4Ygpe9Es",
        "outputId": "143338e6-df5b-453b-d529-c521cab6f090"
      },
      "execution_count": null,
      "outputs": [
        {
          "output_type": "stream",
          "name": "stdout",
          "text": [
            "[[1 0 0]]\n",
            "[[1]]\n",
            "[[-1  3 -3]\n",
            " [ 1 -2  0]\n",
            " [ 0  0  1]]\n"
          ]
        }
      ]
    },
    {
      "cell_type": "code",
      "source": [
        "print(\n",
        "\n",
        "\n",
        ")"
      ],
      "metadata": {
        "colab": {
          "base_uri": "https://localhost:8080/"
        },
        "id": "w3Yz9IdDqdOv",
        "outputId": "62b3082e-5ebc-48ce-f64d-bc53cf123375"
      },
      "execution_count": null,
      "outputs": [
        {
          "output_type": "stream",
          "name": "stdout",
          "text": [
            "\n"
          ]
        }
      ]
    }
  ]
}